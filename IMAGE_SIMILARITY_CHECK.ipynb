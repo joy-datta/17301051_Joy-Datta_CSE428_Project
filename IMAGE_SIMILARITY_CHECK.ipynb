{
 "cells": [
  {
   "cell_type": "code",
   "execution_count": 9,
   "metadata": {},
   "outputs": [
    {
     "name": "stdout",
     "output_type": "stream",
     "text": [
      "TOTAL 320\n",
      "PERFECT 272\n",
      "NOT PERFECT 48\n"
     ]
    }
   ],
   "source": [
    "from PIL import Image\n",
    "import numpy as np\n",
    "import os\n",
    "import imagehash\n",
    "generated_images = os.listdir(\"C:/Users/HP/OneDrive/Documents/MR Image DCGAN 2 Imagehash 3\")\n",
    "directory = \"C:/Users/HP/OneDrive/Documents/MR Image DCGAN 2 Imagehash 3/\"\n",
    "cutoff = 3\n",
    "count = 0\n",
    "total = 0\n",
    "generated = np.array([])\n",
    "for images in generated_images:\n",
    "    threshold = 0\n",
    "    hash01 = imagehash.average_hash(Image.open(\"C:/Users/HP/OneDrive/Documents/Alzheimer's Dataset/train/MildDemented/mildDem0.jpg\"))\n",
    "    hash02 = imagehash.average_hash(Image.open(\"C:/Users/HP/OneDrive/Documents/Alzheimer's Dataset/train/ModerateDemented/moderateDem0.jpg\"))\n",
    "    hash03 = imagehash.average_hash(Image.open(\"C:/Users/HP/OneDrive/Documents/Alzheimer's Dataset/train/NonDemented/nonDem0.jpg\"))\n",
    "    hash04 = imagehash.average_hash(Image.open(\"C:/Users/HP/OneDrive/Documents/Alzheimer's Dataset/train/VeryMildDemented/verymildDem0.jpg\"))\n",
    "    hash1 = imagehash.average_hash(Image.open(directory + images))\n",
    "    threshold, threshold01, threshold02, threshold03, threshold04 = 0, 0, 0, 0, 0\n",
    "    if hash01 - hash1 < cutoff:\n",
    "        threshold01 += 5\n",
    "    else:\n",
    "        pass\n",
    "    if hash02 - hash1 < cutoff:\n",
    "        threshold02 += 5\n",
    "    else:\n",
    "        pass\n",
    "    if hash03 - hash1 < cutoff:\n",
    "        threshold03 += 5\n",
    "    else:\n",
    "        pass\n",
    "    if hash03 - hash1 < cutoff:\n",
    "        threshold04 += 5\n",
    "    else:\n",
    "        pass\n",
    "    threshold = threshold01+threshold02+threshold03+threshold04\n",
    "    if threshold >= 15:\n",
    "        img = Image.open(directory+images)\n",
    "        images_np = np.array(img.getdata())\n",
    "        generated = np.append(generated, images_np)\n",
    "        #print('SIMILAR')\n",
    "        count += 1\n",
    "    else:\n",
    "        #print('not similar')\n",
    "        os.remove(directory+images)\n",
    "    total += 1\n",
    "print('TOTAL', total)\n",
    "print('PERFECT', count)\n",
    "print('NOT PERFECT', total - count)"
   ]
  },
  {
   "cell_type": "code",
   "execution_count": 3,
   "metadata": {},
   "outputs": [
    {
     "name": "stdout",
     "output_type": "stream",
     "text": [
      "Requirement already satisfied: imagehash in c:\\users\\hp\\anaconda3\\lib\\site-packages (4.2.1)\n",
      "Requirement already satisfied: numpy in c:\\users\\hp\\anaconda3\\lib\\site-packages (from imagehash) (1.19.2)\n",
      "Requirement already satisfied: pillow in c:\\users\\hp\\anaconda3\\lib\\site-packages (from imagehash) (8.0.1)\n",
      "Requirement already satisfied: scipy in c:\\users\\hp\\anaconda3\\lib\\site-packages (from imagehash) (1.3.2)\n",
      "Requirement already satisfied: six in c:\\users\\hp\\anaconda3\\lib\\site-packages (from imagehash) (1.15.0)\n",
      "Requirement already satisfied: PyWavelets in c:\\users\\hp\\anaconda3\\lib\\site-packages (from imagehash) (1.1.1)\n",
      "Note: you may need to restart the kernel to use updated packages.\n"
     ]
    }
   ],
   "source": [
    "pip install imagehash"
   ]
  },
  {
   "cell_type": "code",
   "execution_count": 93,
   "metadata": {},
   "outputs": [],
   "source": [
    "generated = generated.reshape(411, 4096, 3)"
   ]
  },
  {
   "cell_type": "code",
   "execution_count": 103,
   "metadata": {},
   "outputs": [
    {
     "data": {
      "text/plain": [
       "<matplotlib.image.AxesImage at 0x24305c4d460>"
      ]
     },
     "execution_count": 103,
     "metadata": {},
     "output_type": "execute_result"
    },
    {
     "data": {
      "image/png": "[encoded data removed]",
      "text/plain": [
       "<Figure size 432x288 with 1 Axes>"
      ]
     },
     "metadata": {
      "needs_background": "light"
     },
     "output_type": "display_data"
    }
   ],
   "source": [
    "import matplotlib.pyplot as plt\n",
    "plt.imshow(generated[::][::][0])"
   ]
  },
  {
   "cell_type": "code",
   "execution_count": 104,
   "metadata": {},
   "outputs": [
    {
     "data": {
      "text/plain": [
       "(411, 4096, 3)"
      ]
     },
     "execution_count": 104,
     "metadata": {},
     "output_type": "execute_result"
    }
   ],
   "source": [
    "generated.shape"
   ]
  },
  {
   "cell_type": "code",
   "execution_count": 180,
   "metadata": {},
   "outputs": [
    {
     "name": "stdout",
     "output_type": "stream",
     "text": [
      "SIMILAR generated_img_000_1.png\n",
      "SIMILAR generated_img_000_4.png\n",
      "SIMILAR generated_img_000_5.png\n",
      "SIMILAR generated_img_000_8.png\n",
      "SIMILAR generated_img_001_3.png\n",
      "SIMILAR generated_img_005_0.png\n",
      "SIMILAR generated_img_005_1.png\n",
      "SIMILAR generated_img_005_2.png\n",
      "SIMILAR generated_img_005_4.png\n",
      "SIMILAR generated_img_005_6.png\n",
      "SIMILAR generated_img_005_7.png\n",
      "SIMILAR generated_img_007_1.png\n",
      "SIMILAR generated_img_009_3.png\n",
      "SIMILAR generated_img_010_5.png\n",
      "SIMILAR generated_img_010_6.png\n",
      "SIMILAR generated_img_011_0.png\n",
      "SIMILAR generated_img_011_1.png\n",
      "SIMILAR generated_img_011_4.png\n",
      "SIMILAR generated_img_011_5.png\n",
      "SIMILAR generated_img_011_6.png\n",
      "SIMILAR generated_img_011_7.png\n",
      "SIMILAR generated_img_011_8.png\n",
      "SIMILAR generated_img_012_0.png\n",
      "SIMILAR generated_img_012_1.png\n",
      "SIMILAR generated_img_012_2.png\n",
      "SIMILAR generated_img_012_5.png\n",
      "SIMILAR generated_img_012_7.png\n",
      "SIMILAR generated_img_014_3.png\n",
      "SIMILAR generated_img_014_5.png\n",
      "SIMILAR generated_img_015_0.png\n",
      "SIMILAR generated_img_015_1.png\n",
      "SIMILAR generated_img_015_2.png\n",
      "SIMILAR generated_img_015_3.png\n",
      "SIMILAR generated_img_015_4.png\n",
      "SIMILAR generated_img_015_5.png\n",
      "SIMILAR generated_img_015_8.png\n",
      "SIMILAR generated_img_016_2.png\n",
      "SIMILAR generated_img_017_0.png\n",
      "SIMILAR generated_img_017_4.png\n",
      "SIMILAR generated_img_017_5.png\n",
      "SIMILAR generated_img_017_8.png\n",
      "SIMILAR generated_img_018_6.png\n",
      "SIMILAR generated_img_018_7.png\n",
      "SIMILAR generated_img_020_3.png\n",
      "SIMILAR generated_img_021_0.png\n",
      "SIMILAR generated_img_021_3.png\n",
      "SIMILAR generated_img_021_4.png\n",
      "SIMILAR generated_img_021_6.png\n",
      "SIMILAR generated_img_025_1.png\n",
      "SIMILAR generated_img_025_3.png\n",
      "SIMILAR generated_img_025_4.png\n",
      "SIMILAR generated_img_025_6.png\n",
      "SIMILAR generated_img_025_8.png\n",
      "SIMILAR generated_img_026_1.png\n",
      "SIMILAR generated_img_026_7.png\n",
      "SIMILAR generated_img_027_5.png\n",
      "SIMILAR generated_img_028_0.png\n",
      "SIMILAR generated_img_028_3.png\n",
      "SIMILAR generated_img_028_6.png\n",
      "SIMILAR generated_img_028_7.png\n",
      "SIMILAR generated_img_031_0.png\n",
      "SIMILAR generated_img_031_8.png\n",
      "SIMILAR generated_img_034_0.png\n",
      "SIMILAR generated_img_034_1.png\n",
      "SIMILAR generated_img_034_2.png\n",
      "SIMILAR generated_img_034_3.png\n",
      "SIMILAR generated_img_034_6.png\n",
      "SIMILAR generated_img_034_7.png\n",
      "SIMILAR generated_img_034_8.png\n",
      "SIMILAR generated_img_036_0.png\n",
      "SIMILAR generated_img_036_1.png\n",
      "SIMILAR generated_img_036_2.png\n",
      "SIMILAR generated_img_036_7.png\n",
      "SIMILAR generated_img_036_8.png\n",
      "SIMILAR generated_img_037_0.png\n",
      "SIMILAR generated_img_037_4.png\n",
      "SIMILAR generated_img_037_5.png\n",
      "SIMILAR generated_img_037_6.png\n",
      "SIMILAR generated_img_037_7.png\n",
      "SIMILAR generated_img_038_2.png\n",
      "SIMILAR generated_img_041_0.png\n",
      "SIMILAR generated_img_041_1.png\n",
      "SIMILAR generated_img_041_5.png\n",
      "SIMILAR generated_img_041_6.png\n",
      "SIMILAR generated_img_041_7.png\n",
      "SIMILAR generated_img_041_8.png\n",
      "SIMILAR generated_img_042_7.png\n",
      "SIMILAR generated_img_044_3.png\n",
      "SIMILAR generated_img_044_7.png\n",
      "SIMILAR generated_img_044_9.png\n",
      "SIMILAR generated_img_046_0.png\n",
      "SIMILAR generated_img_046_2.png\n",
      "SIMILAR generated_img_046_4.png\n",
      "SIMILAR generated_img_048_0.png\n",
      "SIMILAR generated_img_048_8.png\n",
      "SIMILAR generated_img_048_9.png\n",
      "SIMILAR generated_img_050_4.png\n",
      "SIMILAR generated_img_051_0.png\n",
      "SIMILAR generated_img_051_1.png\n",
      "SIMILAR generated_img_051_2.png\n",
      "SIMILAR generated_img_051_4.png\n",
      "SIMILAR generated_img_051_5.png\n",
      "SIMILAR generated_img_051_6.png\n",
      "SIMILAR generated_img_051_7.png\n",
      "SIMILAR generated_img_051_8.png\n",
      "SIMILAR generated_img_051_9.png\n",
      "SIMILAR generated_img_055_3.png\n",
      "SIMILAR generated_img_057_1.png\n",
      "SIMILAR generated_img_057_5.png\n",
      "SIMILAR generated_img_057_6.png\n",
      "SIMILAR generated_img_058_6.png\n",
      "SIMILAR generated_img_058_8.png\n",
      "SIMILAR generated_img_059_0.png\n",
      "SIMILAR generated_img_059_1.png\n",
      "SIMILAR generated_img_059_3.png\n",
      "SIMILAR generated_img_059_4.png\n",
      "SIMILAR generated_img_059_9.png\n",
      "SIMILAR generated_img_060_0.png\n",
      "SIMILAR generated_img_060_2.png\n",
      "SIMILAR generated_img_062_7.png\n",
      "SIMILAR generated_img_063_3.png\n",
      "SIMILAR generated_img_063_8.png\n",
      "SIMILAR generated_img_064_0.png\n",
      "SIMILAR generated_img_064_6.png\n",
      "SIMILAR generated_img_064_9.png\n",
      "SIMILAR generated_img_067_3.png\n",
      "SIMILAR generated_img_069_0.png\n",
      "SIMILAR generated_img_069_1.png\n",
      "SIMILAR generated_img_071_1.png\n",
      "SIMILAR generated_img_071_3.png\n",
      "SIMILAR generated_img_071_4.png\n",
      "SIMILAR generated_img_071_5.png\n",
      "SIMILAR generated_img_071_6.png\n",
      "SIMILAR generated_img_071_8.png\n",
      "SIMILAR generated_img_072_3.png\n",
      "SIMILAR generated_img_072_4.png\n",
      "SIMILAR generated_img_072_5.png\n",
      "SIMILAR generated_img_072_7.png\n",
      "SIMILAR generated_img_072_8.png\n",
      "SIMILAR generated_img_075_1.png\n",
      "SIMILAR generated_img_076_7.png\n",
      "SIMILAR generated_img_077_0.png\n",
      "SIMILAR generated_img_077_2.png\n",
      "SIMILAR generated_img_077_5.png\n",
      "SIMILAR generated_img_078_0.png\n",
      "SIMILAR generated_img_078_1.png\n",
      "SIMILAR generated_img_078_2.png\n",
      "SIMILAR generated_img_078_3.png\n",
      "SIMILAR generated_img_078_5.png\n",
      "SIMILAR generated_img_078_6.png\n",
      "SIMILAR generated_img_078_7.png\n",
      "SIMILAR generated_img_079_5.png\n",
      "SIMILAR generated_img_079_6.png\n",
      "TOTAL 153\n",
      "PERFECT 153\n",
      "NOT PERFECT 0\n"
     ]
    }
   ],
   "source": [
    "from PIL import Image\n",
    "import numpy as np\n",
    "import os\n",
    "import imagehash\n",
    "generated_images = os.listdir(\"OneDrive/Desktop/gendataCutoff01/VeryMild\")\n",
    "directory = \"Onedrive/Desktop/gendataCutoff01/VeryMild/\"\n",
    "cutoff = 1\n",
    "count = 0\n",
    "total = 0\n",
    "generated = np.array([])\n",
    "for images in generated_images:\n",
    "    hash0 = imagehash.average_hash(Image.open(\"Onedrive/Desktop/Alzheimer_s Dataset/train/VeryMildDemented/verymildDem69.jpg\"))\n",
    "    hash1 = imagehash.average_hash(Image.open(directory + images))\n",
    "    if hash0 - hash1 < cutoff:\n",
    "        print('SIMILAR', images)\n",
    "        img = Image.open(directory+images)\n",
    "        images_np = np.array(img.getdata())\n",
    "        generated = np.append(generated, images_np)\n",
    "        count += 1\n",
    "    else:\n",
    "        os.remove(directory+images)\n",
    "        print('not similar')\n",
    "    total += 1\n",
    "print('TOTAL', total)\n",
    "print('PERFECT', count)\n",
    "print('NOT PERFECT', total - count)"
   ]
  },
  {
   "cell_type": "code",
   "execution_count": null,
   "metadata": {},
   "outputs": [],
   "source": []
  },
  {
   "cell_type": "code",
   "execution_count": null,
   "metadata": {},
   "outputs": [],
   "source": [
    "from PIL import Image\n",
    "import numpy as np\n",
    "import os\n",
    "generated_images = os.listdir(\"Onedrive/Desktop/gendata7\")\n",
    "directory = \"Onedrive/Desktop/gendata7/\"\n",
    "cutoff = 3\n",
    "count = 0\n",
    "total = 0\n",
    "generated = np.array([])\n",
    "for images in generated_images:\n",
    "    threshold = 0\n",
    "    hash01 = imagehash.average_hash(Image.open(\"Onedrive/Desktop/Alzheimer_s Dataset/train/MildDemented/mildDem0.jpg\"))\n",
    "    hash02 = imagehash.average_hash(Image.open(\"Onedrive/Desktop/Alzheimer_s Dataset/train/ModerateDemented/moderateDem0.jpg\"))\n",
    "    hash03 = imagehash.average_hash(Image.open(\"Onedrive/Desktop/Alzheimer_s Dataset/train/NonDemented/nonDem0.jpg\"))\n",
    "    hash04 = imagehash.average_hash(Image.open(\"Onedrive/Desktop/Alzheimer_s Dataset/train/VeryMildDemented/verymildDem0.jpg\"))\n",
    "    hash1 = imagehash.average_hash(Image.open(directory + images))\n",
    "    threshold, threshold01, threshold02, threshold03, threshold04 = 0, 0, 0, 0, 0\n",
    "    if hash01 - hash1 < cutoff:\n",
    "        threshold01 += 5\n",
    "    else:\n",
    "        pass\n",
    "    if hash02 - hash1 < cutoff:\n",
    "        threshold02 += 5\n",
    "    else:\n",
    "        pass\n",
    "    if hash03 - hash1 < cutoff:\n",
    "        threshold03 += 5\n",
    "    else:\n",
    "        pass\n",
    "    if hash03 - hash1 < cutoff:\n",
    "        threshold04 += 5\n",
    "    else:\n",
    "        pass\n",
    "    threshold = threshold01+threshold02+threshold03+threshold04\n",
    "    if threshold >= 15:\n",
    "        img = Image.open(directory+images)\n",
    "        images_np = np.array(img.getdata())\n",
    "        generated = np.append(generated, images_np)\n",
    "        print('SIMILAR')\n",
    "        count += 1\n",
    "    else:\n",
    "        print('not similar')\n",
    "        #os.remove(directory+images)\n",
    "    total += 1\n",
    "print('TOTAL', total)\n",
    "print('PERFECT', count)\n",
    "print('NOT PERFECT', total - count)"
   ]
  },
  {
   "cell_type": "code",
   "execution_count": 1,
   "metadata": {},
   "outputs": [
    {
     "name": "stdout",
     "output_type": "stream",
     "text": [
      "Collecting sewar\n",
      "  Downloading sewar-0.4.4.tar.gz (10 kB)\n",
      "Requirement already satisfied: numpy in c:\\users\\hp\\anaconda3\\lib\\site-packages (from sewar) (1.19.2)\n",
      "Requirement already satisfied: scipy in c:\\users\\hp\\anaconda3\\lib\\site-packages (from sewar) (1.3.2)\n",
      "Requirement already satisfied: Pillow in c:\\users\\hp\\anaconda3\\lib\\site-packages (from sewar) (8.0.1)\n",
      "Building wheels for collected packages: sewar\n",
      "  Building wheel for sewar (setup.py): started\n",
      "  Building wheel for sewar (setup.py): finished with status 'done'\n",
      "  Created wheel for sewar: filename=sewar-0.4.4-py3-none-any.whl size=10395 sha256=a63f46642044aa3d21e8f69b7f35272ff02f4b25e83b0c52c7a30a3b89d1aa37\n",
      "  Stored in directory: c:\\users\\hp\\appdata\\local\\pip\\cache\\wheels\\8f\\69\\86\\3ab3f51f40f4275e1964732cfc0322131e89f366ec88d646c9\n",
      "Successfully built sewar\n",
      "Installing collected packages: sewar\n",
      "Successfully installed sewar-0.4.4\n",
      "Note: you may need to restart the kernel to use updated packages.\n"
     ]
    }
   ],
   "source": [
    "pip install sewar"
   ]
  },
  {
   "cell_type": "code",
   "execution_count": 2,
   "metadata": {},
   "outputs": [],
   "source": [
    "from sewar.full_ref import mse, rmse, psnr, uqi, ssim, ergas, scc, rase, sam, msssim, vifp"
   ]
  },
  {
   "cell_type": "code",
   "execution_count": 6,
   "metadata": {},
   "outputs": [],
   "source": [
    "#universal image quality index\n",
    "import os\n",
    "real_images_mild = os.listdir(\"C:/Users/HP/OneDrive/Documents/Alzheimer's Dataset/train/MildDemented\")\n",
    "real_images_moderate = os.listdir(\"C:/Users/HP/OneDrive/Documents/Alzheimer's Dataset/train/ModerateDemented\")\n",
    "real_images_non = os.listdir(\"C:/Users/HP/OneDrive/Documents/Alzheimer's Dataset/train/NonDemented\")\n",
    "real_images_verymild = os.listdir(\"C:/Users/HP/OneDrive/Documents/Alzheimer's Dataset/train/VeryMildDemented\")"
   ]
  },
  {
   "cell_type": "code",
   "execution_count": 9,
   "metadata": {},
   "outputs": [
    {
     "data": {
      "text/plain": [
       "(717, 52, 2560, 1792)"
      ]
     },
     "execution_count": 9,
     "metadata": {},
     "output_type": "execute_result"
    }
   ],
   "source": [
    "len(real_images_mild), len(real_images_moderate), len(real_images_non), len(real_images_verymild)"
   ]
  },
  {
   "cell_type": "code",
   "execution_count": 12,
   "metadata": {},
   "outputs": [],
   "source": [
    "import matplotlib.pyplot as plt"
   ]
  },
  {
   "cell_type": "code",
   "execution_count": 17,
   "metadata": {},
   "outputs": [],
   "source": [
    "from sewar.full_ref import uqi"
   ]
  },
  {
   "cell_type": "code",
   "execution_count": 25,
   "metadata": {},
   "outputs": [],
   "source": [
    "#importing generated images\n",
    "generated_images = os.listdir(\"C:/Users/HP/OneDrive/Documents/MR Image DCGAN 1\")"
   ]
  },
  {
   "cell_type": "code",
   "execution_count": 26,
   "metadata": {},
   "outputs": [
    {
     "data": {
      "text/plain": [
       "2064"
      ]
     },
     "execution_count": 26,
     "metadata": {},
     "output_type": "execute_result"
    }
   ],
   "source": [
    "len(generated_images)"
   ]
  },
  {
   "cell_type": "code",
   "execution_count": 49,
   "metadata": {},
   "outputs": [],
   "source": [
    "import random as rand\n",
    "random_real_mild = rand.choices(real_images_mild, k=25)\n",
    "random_real_moderate = rand.choices(real_images_moderate, k=25)\n",
    "random_real_non = rand.choices(real_images_non, k=25)\n",
    "random_real_verymild = rand.choices(real_images_verymild,k=25)\n",
    "random_generated = rand.choices(generated_images, k=100)"
   ]
  },
  {
   "cell_type": "code",
   "execution_count": 50,
   "metadata": {},
   "outputs": [
    {
     "data": {
      "text/plain": [
       "(25, 25, 25, 25, 100)"
      ]
     },
     "execution_count": 50,
     "metadata": {},
     "output_type": "execute_result"
    }
   ],
   "source": [
    "len(random_real_mild), len(random_real_moderate), len(random_real_non), len(random_real_verymild), len(random_generated)"
   ]
  },
  {
   "cell_type": "code",
   "execution_count": 51,
   "metadata": {},
   "outputs": [],
   "source": [
    "random_real = [*random_real_mild, *random_real_moderate, *random_real_non, *random_real_verymild]"
   ]
  },
  {
   "cell_type": "code",
   "execution_count": 52,
   "metadata": {},
   "outputs": [
    {
     "data": {
      "text/plain": [
       "100"
      ]
     },
     "execution_count": 52,
     "metadata": {},
     "output_type": "execute_result"
    }
   ],
   "source": [
    "len(random_real)"
   ]
  },
  {
   "cell_type": "code",
   "execution_count": 59,
   "metadata": {},
   "outputs": [
    {
     "ename": "AttributeError",
     "evalue": "'str' object has no attribute 'shape'",
     "output_type": "error",
     "traceback": [
      "\u001b[1;31m---------------------------------------------------------------------------\u001b[0m",
      "\u001b[1;31mAttributeError\u001b[0m                            Traceback (most recent call last)",
      "\u001b[1;32m<ipython-input-59-ab0a50314ca8>\u001b[0m in \u001b[0;36m<module>\u001b[1;34m\u001b[0m\n\u001b[0;32m      7\u001b[0m         \u001b[0mgenerated_image_path\u001b[0m \u001b[1;33m=\u001b[0m \u001b[0mImage\u001b[0m\u001b[1;33m.\u001b[0m\u001b[0mopen\u001b[0m\u001b[1;33m(\u001b[0m\u001b[1;34m\"C:/Users/HP/OneDrive/Documents/MR Image DCGAN 1/\"\u001b[0m\u001b[1;33m+\u001b[0m\u001b[0mgenerated_images\u001b[0m\u001b[1;33m)\u001b[0m\u001b[1;33m\u001b[0m\u001b[1;33m\u001b[0m\u001b[0m\n\u001b[0;32m      8\u001b[0m         \u001b[0mreal_image_path\u001b[0m \u001b[1;33m=\u001b[0m \u001b[0mImage\u001b[0m\u001b[1;33m.\u001b[0m\u001b[0mopen\u001b[0m\u001b[1;33m(\u001b[0m\u001b[1;34m\"C:/Users/HP/OneDrive/Documents/Alzheimer's Dataset/train/MildDemented/\"\u001b[0m\u001b[1;33m+\u001b[0m\u001b[0mreal_images\u001b[0m\u001b[1;33m)\u001b[0m\u001b[1;33m\u001b[0m\u001b[1;33m\u001b[0m\u001b[0m\n\u001b[1;32m----> 9\u001b[1;33m         \u001b[0maverage_uqi\u001b[0m \u001b[1;33m+=\u001b[0m \u001b[0muqi\u001b[0m\u001b[1;33m(\u001b[0m\u001b[0mgenerated_images\u001b[0m\u001b[1;33m,\u001b[0m \u001b[0mreal_images\u001b[0m\u001b[1;33m)\u001b[0m\u001b[1;33m\u001b[0m\u001b[1;33m\u001b[0m\u001b[0m\n\u001b[0m\u001b[0;32m     10\u001b[0m     \u001b[0muqi_list\u001b[0m\u001b[1;33m.\u001b[0m\u001b[0mappend\u001b[0m\u001b[1;33m(\u001b[0m\u001b[0maverage_uqi\u001b[0m\u001b[1;33m)\u001b[0m\u001b[1;33m\u001b[0m\u001b[1;33m\u001b[0m\u001b[0m\n",
      "\u001b[1;32m~\\anaconda3\\lib\\site-packages\\sewar\\full_ref.py\u001b[0m in \u001b[0;36muqi\u001b[1;34m(GT, P, ws)\u001b[0m\n\u001b[0;32m    110\u001b[0m         \u001b[1;33m:\u001b[0m\u001b[0mreturns\u001b[0m\u001b[1;33m:\u001b[0m  \u001b[0mfloat\u001b[0m \u001b[1;33m-\u001b[0m\u001b[1;33m-\u001b[0m \u001b[0muqi\u001b[0m \u001b[0mvalue\u001b[0m\u001b[1;33m.\u001b[0m\u001b[1;33m\u001b[0m\u001b[1;33m\u001b[0m\u001b[0m\n\u001b[0;32m    111\u001b[0m \t\"\"\"\n\u001b[1;32m--> 112\u001b[1;33m         \u001b[0mGT\u001b[0m\u001b[1;33m,\u001b[0m\u001b[0mP\u001b[0m \u001b[1;33m=\u001b[0m \u001b[0m_initial_check\u001b[0m\u001b[1;33m(\u001b[0m\u001b[0mGT\u001b[0m\u001b[1;33m,\u001b[0m\u001b[0mP\u001b[0m\u001b[1;33m)\u001b[0m\u001b[1;33m\u001b[0m\u001b[1;33m\u001b[0m\u001b[0m\n\u001b[0m\u001b[0;32m    113\u001b[0m         \u001b[1;32mreturn\u001b[0m \u001b[0mnp\u001b[0m\u001b[1;33m.\u001b[0m\u001b[0mmean\u001b[0m\u001b[1;33m(\u001b[0m\u001b[1;33m[\u001b[0m\u001b[0m_uqi_single\u001b[0m\u001b[1;33m(\u001b[0m\u001b[0mGT\u001b[0m\u001b[1;33m[\u001b[0m\u001b[1;33m:\u001b[0m\u001b[1;33m,\u001b[0m\u001b[1;33m:\u001b[0m\u001b[1;33m,\u001b[0m\u001b[0mi\u001b[0m\u001b[1;33m]\u001b[0m\u001b[1;33m,\u001b[0m\u001b[0mP\u001b[0m\u001b[1;33m[\u001b[0m\u001b[1;33m:\u001b[0m\u001b[1;33m,\u001b[0m\u001b[1;33m:\u001b[0m\u001b[1;33m,\u001b[0m\u001b[0mi\u001b[0m\u001b[1;33m]\u001b[0m\u001b[1;33m,\u001b[0m\u001b[0mws\u001b[0m\u001b[1;33m)\u001b[0m \u001b[1;32mfor\u001b[0m \u001b[0mi\u001b[0m \u001b[1;32min\u001b[0m \u001b[0mrange\u001b[0m\u001b[1;33m(\u001b[0m\u001b[0mGT\u001b[0m\u001b[1;33m.\u001b[0m\u001b[0mshape\u001b[0m\u001b[1;33m[\u001b[0m\u001b[1;36m2\u001b[0m\u001b[1;33m]\u001b[0m\u001b[1;33m)\u001b[0m\u001b[1;33m]\u001b[0m\u001b[1;33m)\u001b[0m\u001b[1;33m\u001b[0m\u001b[1;33m\u001b[0m\u001b[0m\n\u001b[0;32m    114\u001b[0m \u001b[1;33m\u001b[0m\u001b[0m\n",
      "\u001b[1;32m~\\anaconda3\\lib\\site-packages\\sewar\\utils.py\u001b[0m in \u001b[0;36m_initial_check\u001b[1;34m(GT, P)\u001b[0m\n\u001b[0;32m     11\u001b[0m \u001b[1;33m\u001b[0m\u001b[0m\n\u001b[0;32m     12\u001b[0m \u001b[1;32mdef\u001b[0m \u001b[0m_initial_check\u001b[0m\u001b[1;33m(\u001b[0m\u001b[0mGT\u001b[0m\u001b[1;33m,\u001b[0m\u001b[0mP\u001b[0m\u001b[1;33m)\u001b[0m\u001b[1;33m:\u001b[0m\u001b[1;33m\u001b[0m\u001b[1;33m\u001b[0m\u001b[0m\n\u001b[1;32m---> 13\u001b[1;33m         \u001b[1;32massert\u001b[0m \u001b[0mGT\u001b[0m\u001b[1;33m.\u001b[0m\u001b[0mshape\u001b[0m \u001b[1;33m==\u001b[0m \u001b[0mP\u001b[0m\u001b[1;33m.\u001b[0m\u001b[0mshape\u001b[0m\u001b[1;33m,\u001b[0m \u001b[1;34m\"Supplied images have different sizes \"\u001b[0m \u001b[1;33m+\u001b[0m\u001b[0;31m \u001b[0m\u001b[0;31m\\\u001b[0m\u001b[1;33m\u001b[0m\u001b[1;33m\u001b[0m\u001b[0m\n\u001b[0m\u001b[0;32m     14\u001b[0m         \u001b[0mstr\u001b[0m\u001b[1;33m(\u001b[0m\u001b[0mGT\u001b[0m\u001b[1;33m.\u001b[0m\u001b[0mshape\u001b[0m\u001b[1;33m)\u001b[0m \u001b[1;33m+\u001b[0m \u001b[1;34m\" and \"\u001b[0m \u001b[1;33m+\u001b[0m \u001b[0mstr\u001b[0m\u001b[1;33m(\u001b[0m\u001b[0mP\u001b[0m\u001b[1;33m.\u001b[0m\u001b[0mshape\u001b[0m\u001b[1;33m)\u001b[0m\u001b[1;33m\u001b[0m\u001b[1;33m\u001b[0m\u001b[0m\n\u001b[0;32m     15\u001b[0m         \u001b[1;32mif\u001b[0m \u001b[0mGT\u001b[0m\u001b[1;33m.\u001b[0m\u001b[0mdtype\u001b[0m \u001b[1;33m!=\u001b[0m \u001b[0mP\u001b[0m\u001b[1;33m.\u001b[0m\u001b[0mdtype\u001b[0m\u001b[1;33m:\u001b[0m\u001b[1;33m\u001b[0m\u001b[1;33m\u001b[0m\u001b[0m\n",
      "\u001b[1;31mAttributeError\u001b[0m: 'str' object has no attribute 'shape'"
     ]
    }
   ],
   "source": [
    "from PIL import Image\n",
    "from sewar.full_ref import uqi\n",
    "uqi_list = []\n",
    "for generated_images in random_generated:\n",
    "    average_uqi = 0\n",
    "    for real_images in random_real:\n",
    "        generated_image_path = Image.open(\"C:/Users/HP/OneDrive/Documents/MR Image DCGAN 1/\"+generated_images)\n",
    "        real_image_path = Image.open(\"C:/Users/HP/OneDrive/Documents/Alzheimer's Dataset/train/MildDemented/\"+real_images)\n",
    "        average_uqi += uqi(generated_images, real_images)\n",
    "    uqi_list.append(average_uqi)"
   ]
  },
  {
   "cell_type": "code",
   "execution_count": 55,
   "metadata": {},
   "outputs": [
    {
     "data": {
      "text/plain": [
       "['mildDem315.jpg',\n",
       " 'mildDem160.jpg',\n",
       " 'mildDem91.jpg',\n",
       " 'mildDem386.jpg',\n",
       " 'mildDem273.jpg',\n",
       " 'mildDem103.jpg',\n",
       " 'mildDem428.jpg',\n",
       " 'mildDem542.jpg',\n",
       " 'mildDem184.jpg',\n",
       " 'mildDem370.jpg',\n",
       " 'mildDem321.jpg',\n",
       " 'mildDem414.jpg',\n",
       " 'mildDem655.jpg',\n",
       " 'mildDem534.jpg',\n",
       " 'mildDem622.jpg',\n",
       " 'mildDem629.jpg',\n",
       " 'mildDem709.jpg',\n",
       " 'mildDem558.jpg',\n",
       " 'mildDem666.jpg',\n",
       " 'mildDem562.jpg',\n",
       " 'mildDem182.jpg',\n",
       " 'mildDem442.jpg',\n",
       " 'mildDem367.jpg',\n",
       " 'mildDem357.jpg',\n",
       " 'mildDem578.jpg',\n",
       " 'moderateDem37.jpg',\n",
       " 'moderateDem19.jpg',\n",
       " 'moderateDem33.jpg',\n",
       " 'moderateDem24.jpg',\n",
       " 'moderateDem7.jpg',\n",
       " 'moderateDem47.jpg',\n",
       " 'moderateDem39.jpg',\n",
       " 'moderateDem4.jpg',\n",
       " 'moderateDem47.jpg',\n",
       " 'moderateDem14.jpg',\n",
       " 'moderateDem13.jpg',\n",
       " 'moderateDem46.jpg',\n",
       " 'moderateDem37.jpg',\n",
       " 'moderateDem26.jpg',\n",
       " 'moderateDem31.jpg',\n",
       " 'moderateDem10.jpg',\n",
       " 'moderateDem15.jpg',\n",
       " 'moderateDem11.jpg',\n",
       " 'moderateDem37.jpg',\n",
       " 'moderateDem1.jpg',\n",
       " 'moderateDem48.jpg',\n",
       " 'moderateDem41.jpg',\n",
       " 'moderateDem37.jpg',\n",
       " 'moderateDem50.jpg',\n",
       " 'moderateDem38.jpg',\n",
       " 'nonDem1146.jpg',\n",
       " 'nonDem549.jpg',\n",
       " 'nonDem2105.jpg',\n",
       " 'nonDem2002.jpg',\n",
       " 'nonDem2254.jpg',\n",
       " 'nonDem760.jpg',\n",
       " 'nonDem315.jpg',\n",
       " 'nonDem2254.jpg',\n",
       " 'nonDem1514.jpg',\n",
       " 'nonDem739.jpg',\n",
       " 'nonDem611.jpg',\n",
       " 'nonDem1821.jpg',\n",
       " 'nonDem882.jpg',\n",
       " 'nonDem1251.jpg',\n",
       " 'nonDem2353.jpg',\n",
       " 'nonDem238.jpg',\n",
       " 'nonDem1124.jpg',\n",
       " 'nonDem1069.jpg',\n",
       " 'nonDem394.jpg',\n",
       " 'nonDem1694.jpg',\n",
       " 'nonDem2121.jpg',\n",
       " 'nonDem368.jpg',\n",
       " 'nonDem290.jpg',\n",
       " 'nonDem261.jpg',\n",
       " 'nonDem1789.jpg',\n",
       " 'verymildDem1056.jpg',\n",
       " 'verymildDem1615.jpg',\n",
       " 'verymildDem1197.jpg',\n",
       " 'verymildDem621.jpg',\n",
       " 'verymildDem1394.jpg',\n",
       " 'verymildDem244.jpg',\n",
       " 'verymildDem379.jpg',\n",
       " 'verymildDem1330.jpg',\n",
       " 'verymildDem919.jpg',\n",
       " 'verymildDem331.jpg',\n",
       " 'verymildDem98.jpg',\n",
       " 'verymildDem995.jpg',\n",
       " 'verymildDem619.jpg',\n",
       " 'verymildDem1490.jpg',\n",
       " 'verymildDem201.jpg',\n",
       " 'verymildDem27.jpg',\n",
       " 'verymildDem482.jpg',\n",
       " 'verymildDem1535.jpg',\n",
       " 'verymildDem630.jpg',\n",
       " 'verymildDem1719.jpg',\n",
       " 'verymildDem647.jpg',\n",
       " 'verymildDem235.jpg',\n",
       " 'verymildDem86.jpg',\n",
       " 'verymildDem427.jpg',\n",
       " 'verymildDem1656.jpg']"
      ]
     },
     "execution_count": 55,
     "metadata": {},
     "output_type": "execute_result"
    }
   ],
   "source": [
    "random_real"
   ]
  },
  {
   "cell_type": "code",
   "execution_count": null,
   "metadata": {},
   "outputs": [],
   "source": []
  }
 ],
 "metadata": {
  "kernelspec": {
   "display_name": "Python 3",
   "language": "python",
   "name": "python3"
  },
  "language_info": {
   "codemirror_mode": {
    "name": "ipython",
    "version": 3
   },
   "file_extension": ".py",
   "mimetype": "text/x-python",
   "name": "python",
   "nbconvert_exporter": "python",
   "pygments_lexer": "ipython3",
   "version": "3.8.5"
  }
 },
 "nbformat": 4,
 "nbformat_minor": 4
}
